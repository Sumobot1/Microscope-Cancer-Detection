{
 "cells": [
  {
   "cell_type": "code",
   "execution_count": 1,
   "metadata": {},
   "outputs": [
    {
     "name": "stderr",
     "output_type": "stream",
     "text": [
      "Using TensorFlow backend.\n",
      "/home/michael/anaconda3/envs/testenv/lib/python3.6/site-packages/tensorflow/python/framework/dtypes.py:523: FutureWarning: Passing (type, 1) or '1type' as a synonym of type is deprecated; in a future version of numpy, it will be understood as (type, (1,)) / '(1,)type'.\n",
      "  _np_qint8 = np.dtype([(\"qint8\", np.int8, 1)])\n",
      "/home/michael/anaconda3/envs/testenv/lib/python3.6/site-packages/tensorflow/python/framework/dtypes.py:524: FutureWarning: Passing (type, 1) or '1type' as a synonym of type is deprecated; in a future version of numpy, it will be understood as (type, (1,)) / '(1,)type'.\n",
      "  _np_quint8 = np.dtype([(\"quint8\", np.uint8, 1)])\n",
      "/home/michael/anaconda3/envs/testenv/lib/python3.6/site-packages/tensorflow/python/framework/dtypes.py:525: FutureWarning: Passing (type, 1) or '1type' as a synonym of type is deprecated; in a future version of numpy, it will be understood as (type, (1,)) / '(1,)type'.\n",
      "  _np_qint16 = np.dtype([(\"qint16\", np.int16, 1)])\n",
      "/home/michael/anaconda3/envs/testenv/lib/python3.6/site-packages/tensorflow/python/framework/dtypes.py:526: FutureWarning: Passing (type, 1) or '1type' as a synonym of type is deprecated; in a future version of numpy, it will be understood as (type, (1,)) / '(1,)type'.\n",
      "  _np_quint16 = np.dtype([(\"quint16\", np.uint16, 1)])\n",
      "/home/michael/anaconda3/envs/testenv/lib/python3.6/site-packages/tensorflow/python/framework/dtypes.py:527: FutureWarning: Passing (type, 1) or '1type' as a synonym of type is deprecated; in a future version of numpy, it will be understood as (type, (1,)) / '(1,)type'.\n",
      "  _np_qint32 = np.dtype([(\"qint32\", np.int32, 1)])\n",
      "/home/michael/anaconda3/envs/testenv/lib/python3.6/site-packages/tensorflow/python/framework/dtypes.py:532: FutureWarning: Passing (type, 1) or '1type' as a synonym of type is deprecated; in a future version of numpy, it will be understood as (type, (1,)) / '(1,)type'.\n",
      "  np_resource = np.dtype([(\"resource\", np.ubyte, 1)])\n"
     ]
    }
   ],
   "source": [
    "import os\n",
    "import keras\n",
    "import random\n",
    "import numpy as np\n",
    "import pandas as pd\n",
    "from random import shuffle\n",
    "from skimage.io import imread\n",
    "from sklearn.model_selection import train_test_split\n",
    "from sklearn.metrics import confusion_matrix\n",
    "\n",
    "from keras.models import load_model\n",
    "from keras.models import Sequential, Model\n",
    "from keras.preprocessing.image import ImageDataGenerator\n",
    "from keras.callbacks import EarlyStopping, ModelCheckpoint, ReduceLROnPlateau\n",
    "from keras.layers import Conv2D, MaxPool2D, Dense, Flatten, GlobalAveragePooling2D, Dropout"
   ]
  },
  {
   "cell_type": "code",
   "execution_count": 2,
   "metadata": {},
   "outputs": [],
   "source": [
    "# https://www.nature.com/articles/srep27988\n",
    "# Data usage statement\n",
    "# We release all raw data under a Creative Commons Attribution 4.0 International License (http://creativecommons.org/licenses/by/4.0/). The data can be accessed via the following DOI: 10.5281/zenodo.53169. All source codes used for this study are available under the MIT license (http://opensource.org/licenses/MIT) and can be accessed via the following DOI: 10.5281/zenodo.53735.\n",
    "# https://zenodo.org/record/53169\n",
    "# https://zenodo.org/record/53735"
   ]
  },
  {
   "cell_type": "code",
   "execution_count": 3,
   "metadata": {},
   "outputs": [],
   "source": [
    "random.seed(69)\n",
    "train_dir = './train/train/'\n",
    "test_dir = './test/test'"
   ]
  },
  {
   "cell_type": "code",
   "execution_count": 4,
   "metadata": {},
   "outputs": [],
   "source": [
    "train_data = pd.read_csv('./train.csv')\n",
    "train_data['train_file'] = train_data.Id.apply(lambda x: './train/train/{0}'.format(x))"
   ]
  },
  {
   "cell_type": "code",
   "execution_count": 5,
   "metadata": {},
   "outputs": [],
   "source": [
    "train_df = pd.read_csv('train_df_0.csv')\n",
    "val_df = pd.read_csv('val_df_0.csv')"
   ]
  },
  {
   "cell_type": "code",
   "execution_count": 6,
   "metadata": {},
   "outputs": [
    {
     "name": "stdout",
     "output_type": "stream",
     "text": [
      "3600 900\n"
     ]
    }
   ],
   "source": [
    "print(len(train_df.index), len(val_df.index))"
   ]
  },
  {
   "cell_type": "code",
   "execution_count": 7,
   "metadata": {},
   "outputs": [
    {
     "name": "stdout",
     "output_type": "stream",
     "text": [
      "Num Samples:  4500\n",
      "Image Shape:  (150, 150, 3)\n"
     ]
    }
   ],
   "source": [
    "print(\"Num Samples: \", len(train_data.index))\n",
    "print(\"Image Shape: \", imread(train_data.iloc[0].train_file).shape)"
   ]
  },
  {
   "cell_type": "code",
   "execution_count": 8,
   "metadata": {},
   "outputs": [],
   "source": [
    "# Less Agressive\n",
    "# Shear: https://stackoverflow.com/questions/57301330/what-exactly-the-shear-do-in-imagedatagenerator-of-keras\n",
    "#  - We dont really need it\n",
    "# Zoom Range: Zooming out is fine, but zooming in should be careful or we may end up with confusion between that and adipose\n",
    "# We super dont need as much brightness as we have right now\n",
    "datagen = ImageDataGenerator(rescale=1/255.,\n",
    "                             rotation_range=90,\n",
    "                             width_shift_range=0.1,\n",
    "                             height_shift_range=0.1,\n",
    "                             fill_mode='reflect',\n",
    "                             zoom_range=[0.8, 1.1],\n",
    "                             horizontal_flip=True,\n",
    "                             vertical_flip=True,\n",
    "                             brightness_range=[0.8, 1.1],\n",
    "                             channel_shift_range=12)\n",
    "val_datagen = ImageDataGenerator(rescale=1/255.)\n",
    "test_datagen = ImageDataGenerator(rescale=1/255.)"
   ]
  },
  {
   "cell_type": "code",
   "execution_count": 9,
   "metadata": {},
   "outputs": [
    {
     "name": "stdout",
     "output_type": "stream",
     "text": [
      "Found 3600 validated image filenames belonging to 8 classes.\n",
      "Found 900 validated image filenames belonging to 8 classes.\n"
     ]
    }
   ],
   "source": [
    "train_generator = datagen.flow_from_dataframe(dataframe=train_df, directory=train_dir,\n",
    "                                             x_col='Id',\n",
    "                                             y_col='Category',\n",
    "                                             target_size=(150, 150),\n",
    "                                             class_mode='categorical',\n",
    "                                             batch_size=32,\n",
    "                                             seed=7)\n",
    "\n",
    "validation_generator = val_datagen.flow_from_dataframe(dataframe=val_df, directory=train_dir,\n",
    "                                             x_col='Id',\n",
    "                                             y_col='Category',\n",
    "                                            shuffle=False,\n",
    "                                             target_size=(150, 150),\n",
    "                                             class_mode='categorical',\n",
    "                                             batch_size=100,\n",
    "                                             seed=7)"
   ]
  },
  {
   "cell_type": "code",
   "execution_count": 10,
   "metadata": {},
   "outputs": [],
   "source": [
    "# Easy VGG 16 Base Model (Mainly just for checking if things work)\n",
    "# model = vgg_16_base((150, 150, 3), 'imagenet', 8)\n",
    "def vgg_16_base(input_shape, pretrained_weights, num_classes, preds_not_one_hot=False):\n",
    "    from keras.applications.vgg16 import VGG16\n",
    "    # Sigmoid squashes each output into 0-1, whereas softmax makes all outputs sum to 1\n",
    "    final_activation = 'sigmoid' if preds_not_one_hot else 'softmax'\n",
    "    base_model = VGG16(weights=pretrained_weights, include_top=False, input_shape=input_shape)\n",
    "    base_out = base_model.output\n",
    "    pool_out = Flatten()(base_out)\n",
    "    predictions = Dense(num_classes, activation='softmax')(pool_out)\n",
    "    return Model(inputs=base_model.input, outputs=predictions)"
   ]
  },
  {
   "cell_type": "code",
   "execution_count": 11,
   "metadata": {},
   "outputs": [],
   "source": [
    "# Given some model, freeze all layers except the ones between...\n",
    "def freeze_model_layers(given_model, trainable_start=None, trainable_end=None):\n",
    "    trainable_end = len(given_model.layers) if trainable_start and not trainable_end else trainable_end\n",
    "    trainable_start = 0 if trainable_end and not trainable_start else trainable_start\n",
    "    for layer in given_model.layers:\n",
    "       layer.trainable = False\n",
    "    if trainable_start and trainable_end:\n",
    "        for layer in given_model.layers[trainable_start:trainable_end]:\n",
    "            layer.trainable = True\n",
    "    print(\"Froze all layers except {} to {}.  Model must be compiled after this!\".format(trainable_start, trainable_end))"
   ]
  },
  {
   "cell_type": "code",
   "execution_count": 12,
   "metadata": {},
   "outputs": [],
   "source": [
    "train_steps = train_generator.n//train_generator.batch_size\n",
    "validation_steps = validation_generator.n//validation_generator.batch_size"
   ]
  },
  {
   "cell_type": "code",
   "execution_count": 13,
   "metadata": {},
   "outputs": [
    {
     "name": "stdout",
     "output_type": "stream",
     "text": [
      "Froze all layers except 19 to 21.  Model must be compiled after this!\n"
     ]
    }
   ],
   "source": [
    "model = vgg_16_base((150, 150, 3), 'imagenet', 8)\n",
    "freeze_model_layers(model, trainable_start=19)\n",
    "# Probabilities produced by softmax will always sum to 1\n",
    "default_adam = keras.optimizers.Adam(lr=0.001, beta_1=0.9, beta_2=0.999, amsgrad=False)\n",
    "slow_adam = keras.optimizers.Adam(lr=0.0001, beta_1=0.9, beta_2=0.999, amsgrad=False)\n",
    "model.compile(loss='categorical_crossentropy',optimizer=default_adam,metrics=['accuracy'])"
   ]
  },
  {
   "cell_type": "code",
   "execution_count": 14,
   "metadata": {},
   "outputs": [
    {
     "name": "stdout",
     "output_type": "stream",
     "text": [
      "Epoch 1/60\n",
      "112/112 [==============================] - 9s 82ms/step - loss: 0.8032 - acc: 0.7101 - val_loss: 0.5569 - val_acc: 0.7867\n",
      "Epoch 2/60\n",
      "112/112 [==============================] - 7s 59ms/step - loss: 0.5249 - acc: 0.8117 - val_loss: 0.5113 - val_acc: 0.8167\n",
      "Epoch 3/60\n",
      "112/112 [==============================] - 6s 55ms/step - loss: 0.4853 - acc: 0.8290 - val_loss: 0.3842 - val_acc: 0.8678\n",
      "Epoch 4/60\n",
      "112/112 [==============================] - 6s 55ms/step - loss: 0.4379 - acc: 0.8488 - val_loss: 0.4887 - val_acc: 0.8322\n",
      "Epoch 5/60\n",
      "112/112 [==============================] - 6s 54ms/step - loss: 0.4385 - acc: 0.8488 - val_loss: 0.3551 - val_acc: 0.8811\n",
      "Epoch 6/60\n",
      "112/112 [==============================] - 6s 54ms/step - loss: 0.3945 - acc: 0.8521 - val_loss: 0.3759 - val_acc: 0.8722\n",
      "Epoch 7/60\n",
      "112/112 [==============================] - 6s 54ms/step - loss: 0.4061 - acc: 0.8535 - val_loss: 0.3698 - val_acc: 0.8667\n",
      "Epoch 8/60\n",
      "112/112 [==============================] - 6s 54ms/step - loss: 0.4176 - acc: 0.8424 - val_loss: 0.3932 - val_acc: 0.8522\n",
      "Epoch 9/60\n",
      "112/112 [==============================] - 6s 54ms/step - loss: 0.3874 - acc: 0.8599 - val_loss: 0.3922 - val_acc: 0.8667\n",
      "\n",
      "Epoch 00009: ReduceLROnPlateau reducing learning rate to 0.0005000000237487257.\n",
      "Epoch 10/60\n",
      "112/112 [==============================] - 6s 54ms/step - loss: 0.3534 - acc: 0.8756 - val_loss: 0.3248 - val_acc: 0.8944\n",
      "Epoch 11/60\n",
      "112/112 [==============================] - 6s 54ms/step - loss: 0.3422 - acc: 0.8795 - val_loss: 0.3321 - val_acc: 0.8889\n",
      "Epoch 12/60\n",
      "112/112 [==============================] - 6s 54ms/step - loss: 0.3524 - acc: 0.8730 - val_loss: 0.3250 - val_acc: 0.8889\n",
      "Epoch 13/60\n",
      "112/112 [==============================] - 6s 54ms/step - loss: 0.3324 - acc: 0.8848 - val_loss: 0.3130 - val_acc: 0.8922\n",
      "Epoch 14/60\n",
      "112/112 [==============================] - 6s 55ms/step - loss: 0.3395 - acc: 0.8795 - val_loss: 0.3114 - val_acc: 0.9000\n",
      "Epoch 15/60\n",
      "112/112 [==============================] - 6s 54ms/step - loss: 0.3309 - acc: 0.8853 - val_loss: 0.3055 - val_acc: 0.8978\n",
      "Epoch 16/60\n",
      "112/112 [==============================] - 6s 54ms/step - loss: 0.3343 - acc: 0.8772 - val_loss: 0.3332 - val_acc: 0.8733\n",
      "Epoch 17/60\n",
      "112/112 [==============================] - 6s 54ms/step - loss: 0.3217 - acc: 0.8842 - val_loss: 0.3094 - val_acc: 0.8967\n",
      "Epoch 18/60\n",
      "112/112 [==============================] - 6s 54ms/step - loss: 0.3316 - acc: 0.8781 - val_loss: 0.3477 - val_acc: 0.8756\n",
      "Epoch 19/60\n",
      "112/112 [==============================] - 6s 54ms/step - loss: 0.3211 - acc: 0.8839 - val_loss: 0.3356 - val_acc: 0.8867\n",
      "\n",
      "Epoch 00019: ReduceLROnPlateau reducing learning rate to 0.0002500000118743628.\n",
      "Epoch 20/60\n",
      "112/112 [==============================] - 6s 54ms/step - loss: 0.3057 - acc: 0.8901 - val_loss: 0.3395 - val_acc: 0.8789\n",
      "Epoch 21/60\n",
      "112/112 [==============================] - 6s 54ms/step - loss: 0.3051 - acc: 0.8903 - val_loss: 0.3120 - val_acc: 0.8956\n",
      "Epoch 22/60\n",
      "112/112 [==============================] - 6s 54ms/step - loss: 0.3152 - acc: 0.8853 - val_loss: 0.3010 - val_acc: 0.9000\n",
      "Epoch 23/60\n",
      "112/112 [==============================] - 6s 54ms/step - loss: 0.2917 - acc: 0.9015 - val_loss: 0.3131 - val_acc: 0.8911\n",
      "Epoch 24/60\n",
      "112/112 [==============================] - 6s 55ms/step - loss: 0.3048 - acc: 0.8937 - val_loss: 0.2927 - val_acc: 0.9044\n",
      "Epoch 25/60\n",
      "112/112 [==============================] - 6s 55ms/step - loss: 0.2927 - acc: 0.8987 - val_loss: 0.2968 - val_acc: 0.9011\n",
      "Epoch 26/60\n",
      "112/112 [==============================] - 6s 55ms/step - loss: 0.3127 - acc: 0.8912 - val_loss: 0.2906 - val_acc: 0.9033\n",
      "Epoch 27/60\n",
      "112/112 [==============================] - 6s 53ms/step - loss: 0.2995 - acc: 0.8948 - val_loss: 0.2997 - val_acc: 0.8989\n",
      "Epoch 28/60\n",
      "112/112 [==============================] - 6s 53ms/step - loss: 0.2840 - acc: 0.9004 - val_loss: 0.3086 - val_acc: 0.8978\n",
      "Epoch 29/60\n",
      "112/112 [==============================] - 6s 53ms/step - loss: 0.2964 - acc: 0.8984 - val_loss: 0.3079 - val_acc: 0.8967\n",
      "Epoch 30/60\n",
      "112/112 [==============================] - 6s 55ms/step - loss: 0.2914 - acc: 0.8948 - val_loss: 0.3039 - val_acc: 0.9033\n",
      "\n",
      "Epoch 00030: ReduceLROnPlateau reducing learning rate to 0.0001250000059371814.\n",
      "Epoch 31/60\n",
      "112/112 [==============================] - 6s 54ms/step - loss: 0.2801 - acc: 0.8970 - val_loss: 0.2998 - val_acc: 0.8989\n",
      "Epoch 32/60\n",
      "112/112 [==============================] - 6s 54ms/step - loss: 0.2832 - acc: 0.9012 - val_loss: 0.3084 - val_acc: 0.8911\n",
      "Epoch 33/60\n",
      "112/112 [==============================] - 6s 53ms/step - loss: 0.2852 - acc: 0.8945 - val_loss: 0.2908 - val_acc: 0.9011\n",
      "Epoch 34/60\n",
      "112/112 [==============================] - 6s 53ms/step - loss: 0.2865 - acc: 0.9012 - val_loss: 0.3136 - val_acc: 0.8911\n",
      "\n",
      "Epoch 00034: ReduceLROnPlateau reducing learning rate to 6.25000029685907e-05.\n",
      "Epoch 35/60\n",
      "112/112 [==============================] - 6s 54ms/step - loss: 0.2775 - acc: 0.8990 - val_loss: 0.2888 - val_acc: 0.9044\n",
      "Epoch 36/60\n",
      "112/112 [==============================] - 6s 53ms/step - loss: 0.2823 - acc: 0.9079 - val_loss: 0.2898 - val_acc: 0.9011\n",
      "Epoch 37/60\n",
      "112/112 [==============================] - 6s 53ms/step - loss: 0.2744 - acc: 0.9035 - val_loss: 0.2995 - val_acc: 0.9000\n",
      "Epoch 38/60\n",
      "112/112 [==============================] - 6s 53ms/step - loss: 0.2844 - acc: 0.8973 - val_loss: 0.2942 - val_acc: 0.9056\n",
      "Epoch 39/60\n",
      "112/112 [==============================] - 6s 53ms/step - loss: 0.2765 - acc: 0.9012 - val_loss: 0.2972 - val_acc: 0.8989\n",
      "\n",
      "Epoch 00039: ReduceLROnPlateau reducing learning rate to 3.125000148429535e-05.\n",
      "Epoch 40/60\n",
      "112/112 [==============================] - 6s 53ms/step - loss: 0.2851 - acc: 0.8948 - val_loss: 0.2910 - val_acc: 0.9044\n",
      "Epoch 41/60\n",
      "112/112 [==============================] - 6s 53ms/step - loss: 0.2756 - acc: 0.9015 - val_loss: 0.2910 - val_acc: 0.9078\n",
      "Epoch 42/60\n",
      "112/112 [==============================] - 6s 57ms/step - loss: 0.2801 - acc: 0.9007 - val_loss: 0.2920 - val_acc: 0.9022\n",
      "Epoch 43/60\n",
      "112/112 [==============================] - 6s 56ms/step - loss: 0.2876 - acc: 0.8979 - val_loss: 0.2856 - val_acc: 0.9056\n",
      "Epoch 44/60\n",
      "112/112 [==============================] - 6s 56ms/step - loss: 0.2795 - acc: 0.8984 - val_loss: 0.2932 - val_acc: 0.9044\n",
      "Epoch 45/60\n",
      "112/112 [==============================] - 6s 55ms/step - loss: 0.2708 - acc: 0.9049 - val_loss: 0.2928 - val_acc: 0.9056\n",
      "Epoch 46/60\n",
      "112/112 [==============================] - 6s 53ms/step - loss: 0.2804 - acc: 0.8996 - val_loss: 0.2991 - val_acc: 0.8956\n",
      "Epoch 47/60\n",
      "112/112 [==============================] - 6s 56ms/step - loss: 0.2763 - acc: 0.8996 - val_loss: 0.2969 - val_acc: 0.9033\n",
      "\n",
      "Epoch 00047: ReduceLROnPlateau reducing learning rate to 1.5625000742147677e-05.\n",
      "Epoch 48/60\n",
      "112/112 [==============================] - 6s 57ms/step - loss: 0.2861 - acc: 0.9021 - val_loss: 0.2934 - val_acc: 0.9022\n",
      "Epoch 49/60\n",
      "112/112 [==============================] - 6s 55ms/step - loss: 0.2792 - acc: 0.9040 - val_loss: 0.2941 - val_acc: 0.9067\n",
      "Epoch 50/60\n",
      "112/112 [==============================] - 6s 54ms/step - loss: 0.2671 - acc: 0.9076 - val_loss: 0.2895 - val_acc: 0.9067\n",
      "Epoch 51/60\n",
      "112/112 [==============================] - 6s 54ms/step - loss: 0.2850 - acc: 0.9029 - val_loss: 0.2943 - val_acc: 0.9033\n",
      "\n",
      "Epoch 00051: ReduceLROnPlateau reducing learning rate to 7.812500371073838e-06.\n",
      "Epoch 52/60\n",
      "112/112 [==============================] - 6s 54ms/step - loss: 0.2868 - acc: 0.8993 - val_loss: 0.2916 - val_acc: 0.9056\n",
      "Epoch 53/60\n",
      "112/112 [==============================] - 6s 54ms/step - loss: 0.2662 - acc: 0.9062 - val_loss: 0.2940 - val_acc: 0.9044\n",
      "Epoch 54/60\n",
      "112/112 [==============================] - 6s 54ms/step - loss: 0.2669 - acc: 0.9076 - val_loss: 0.2925 - val_acc: 0.9044\n",
      "Epoch 55/60\n",
      "112/112 [==============================] - 6s 54ms/step - loss: 0.2843 - acc: 0.9035 - val_loss: 0.2924 - val_acc: 0.9033\n",
      "\n",
      "Epoch 00055: ReduceLROnPlateau reducing learning rate to 3.906250185536919e-06.\n",
      "Epoch 56/60\n",
      "112/112 [==============================] - 6s 54ms/step - loss: 0.2644 - acc: 0.9060 - val_loss: 0.2933 - val_acc: 0.9044\n",
      "Epoch 57/60\n",
      "112/112 [==============================] - 6s 54ms/step - loss: 0.2799 - acc: 0.9007 - val_loss: 0.2949 - val_acc: 0.9044\n",
      "Epoch 58/60\n",
      "112/112 [==============================] - 6s 54ms/step - loss: 0.2732 - acc: 0.9060 - val_loss: 0.2926 - val_acc: 0.9044\n",
      "Epoch 00058: early stopping\n"
     ]
    }
   ],
   "source": [
    "es = EarlyStopping(monitor='val_loss', mode='min', verbose=1, patience=15)\n",
    "mc = ModelCheckpoint('vgg_16_step_1.h5', monitor='val_loss', mode='min', save_best_only=True)\n",
    "learning_rate_reduction = ReduceLROnPlateau(monitor='val_loss', patience=4, verbose=1, factor=0.5, min_lr=0.0000001)\n",
    "history = model.fit_generator(train_generator,steps_per_epoch=train_steps, epochs=60,\n",
    "                              validation_data=validation_generator,validation_steps=validation_steps,\n",
    "                              callbacks=[es, mc, learning_rate_reduction],\n",
    "                              workers=6, max_queue_size=30)"
   ]
  },
  {
   "cell_type": "code",
   "execution_count": 15,
   "metadata": {},
   "outputs": [
    {
     "name": "stdout",
     "output_type": "stream",
     "text": [
      "Froze all layers except 15 to 21.  Model must be compiled after this!\n"
     ]
    }
   ],
   "source": [
    "model = load_model(\"vgg_16_step_1.h5\")\n",
    "freeze_model_layers(model, trainable_start=15, trainable_end=None)\n",
    "default_adam = keras.optimizers.Adam(lr=0.001, beta_1=0.9, beta_2=0.999, amsgrad=False)\n",
    "model.compile(loss='categorical_crossentropy',optimizer=slow_adam,metrics=['accuracy'])"
   ]
  },
  {
   "cell_type": "code",
   "execution_count": 16,
   "metadata": {},
   "outputs": [
    {
     "name": "stdout",
     "output_type": "stream",
     "text": [
      "Epoch 1/500\n",
      "112/112 [==============================] - 8s 75ms/step - loss: 0.4815 - acc: 0.8298 - val_loss: 0.3564 - val_acc: 0.8822\n",
      "Epoch 2/500\n",
      "112/112 [==============================] - 7s 66ms/step - loss: 0.3480 - acc: 0.8736 - val_loss: 0.2680 - val_acc: 0.8844\n",
      "Epoch 3/500\n",
      "112/112 [==============================] - 7s 66ms/step - loss: 0.2929 - acc: 0.8993 - val_loss: 0.3046 - val_acc: 0.8856\n",
      "Epoch 4/500\n",
      "112/112 [==============================] - 7s 66ms/step - loss: 0.3325 - acc: 0.8820 - val_loss: 0.2546 - val_acc: 0.8989\n",
      "Epoch 5/500\n",
      "112/112 [==============================] - 7s 66ms/step - loss: 0.2461 - acc: 0.9143 - val_loss: 0.2530 - val_acc: 0.8956\n",
      "Epoch 6/500\n",
      "112/112 [==============================] - 7s 66ms/step - loss: 0.2581 - acc: 0.9118 - val_loss: 0.2863 - val_acc: 0.8967\n",
      "Epoch 7/500\n",
      "112/112 [==============================] - 7s 66ms/step - loss: 0.2354 - acc: 0.9152 - val_loss: 0.2501 - val_acc: 0.9089\n",
      "Epoch 8/500\n",
      "112/112 [==============================] - 7s 66ms/step - loss: 0.2487 - acc: 0.9107 - val_loss: 0.2262 - val_acc: 0.9178\n",
      "Epoch 9/500\n",
      "112/112 [==============================] - 7s 66ms/step - loss: 0.2208 - acc: 0.9202 - val_loss: 0.2224 - val_acc: 0.9044\n",
      "Epoch 10/500\n",
      "112/112 [==============================] - 7s 66ms/step - loss: 0.2083 - acc: 0.9247 - val_loss: 0.2175 - val_acc: 0.9200\n",
      "Epoch 11/500\n",
      "112/112 [==============================] - 7s 66ms/step - loss: 0.2195 - acc: 0.9238 - val_loss: 0.2363 - val_acc: 0.9167\n",
      "Epoch 12/500\n",
      "112/112 [==============================] - 7s 66ms/step - loss: 0.1877 - acc: 0.9302 - val_loss: 0.2242 - val_acc: 0.9244\n",
      "Epoch 13/500\n",
      "112/112 [==============================] - 7s 66ms/step - loss: 0.1950 - acc: 0.9266 - val_loss: 0.2283 - val_acc: 0.9122\n",
      "Epoch 14/500\n",
      "112/112 [==============================] - 7s 66ms/step - loss: 0.1894 - acc: 0.9375 - val_loss: 0.2031 - val_acc: 0.9311\n",
      "Epoch 15/500\n",
      "112/112 [==============================] - 7s 66ms/step - loss: 0.1862 - acc: 0.9319 - val_loss: 0.2033 - val_acc: 0.9256\n",
      "Epoch 16/500\n",
      "112/112 [==============================] - 7s 66ms/step - loss: 0.1778 - acc: 0.9364 - val_loss: 0.2174 - val_acc: 0.9233\n",
      "Epoch 17/500\n",
      "112/112 [==============================] - 7s 66ms/step - loss: 0.1679 - acc: 0.9397 - val_loss: 0.2638 - val_acc: 0.9022\n",
      "Epoch 18/500\n",
      "112/112 [==============================] - 8s 68ms/step - loss: 0.1629 - acc: 0.9481 - val_loss: 0.2102 - val_acc: 0.9322\n",
      "\n",
      "Epoch 00018: ReduceLROnPlateau reducing learning rate to 4.999999873689376e-05.\n",
      "Epoch 19/500\n",
      "112/112 [==============================] - 8s 67ms/step - loss: 0.1336 - acc: 0.9556 - val_loss: 0.1989 - val_acc: 0.9344\n",
      "Epoch 20/500\n",
      "112/112 [==============================] - 8s 67ms/step - loss: 0.1223 - acc: 0.9565 - val_loss: 0.2004 - val_acc: 0.9378\n",
      "Epoch 21/500\n",
      "112/112 [==============================] - 8s 68ms/step - loss: 0.1120 - acc: 0.9584 - val_loss: 0.1946 - val_acc: 0.9289\n",
      "Epoch 22/500\n",
      "112/112 [==============================] - 8s 68ms/step - loss: 0.1105 - acc: 0.9623 - val_loss: 0.2011 - val_acc: 0.9278\n",
      "Epoch 23/500\n",
      "112/112 [==============================] - 8s 68ms/step - loss: 0.1298 - acc: 0.9548 - val_loss: 0.1948 - val_acc: 0.9367\n",
      "Epoch 24/500\n",
      "112/112 [==============================] - 7s 66ms/step - loss: 0.1004 - acc: 0.9646 - val_loss: 0.2278 - val_acc: 0.9222\n",
      "Epoch 25/500\n",
      "112/112 [==============================] - 7s 67ms/step - loss: 0.1119 - acc: 0.9595 - val_loss: 0.1980 - val_acc: 0.9389\n",
      "\n",
      "Epoch 00025: ReduceLROnPlateau reducing learning rate to 2.499999936844688e-05.\n",
      "Epoch 26/500\n",
      "112/112 [==============================] - 8s 68ms/step - loss: 0.0863 - acc: 0.9693 - val_loss: 0.1778 - val_acc: 0.9456\n",
      "Epoch 27/500\n",
      "112/112 [==============================] - 7s 66ms/step - loss: 0.0789 - acc: 0.9724 - val_loss: 0.1917 - val_acc: 0.9389\n",
      "Epoch 28/500\n",
      "112/112 [==============================] - 7s 66ms/step - loss: 0.0829 - acc: 0.9727 - val_loss: 0.1971 - val_acc: 0.9356\n",
      "Epoch 29/500\n",
      "112/112 [==============================] - 7s 66ms/step - loss: 0.0726 - acc: 0.9746 - val_loss: 0.1902 - val_acc: 0.9356\n",
      "Epoch 30/500\n",
      "112/112 [==============================] - 7s 66ms/step - loss: 0.0688 - acc: 0.9774 - val_loss: 0.1945 - val_acc: 0.9356\n",
      "\n",
      "Epoch 00030: ReduceLROnPlateau reducing learning rate to 1.249999968422344e-05.\n",
      "Epoch 31/500\n",
      "112/112 [==============================] - 7s 66ms/step - loss: 0.0773 - acc: 0.9729 - val_loss: 0.1813 - val_acc: 0.9411\n",
      "Epoch 32/500\n",
      "112/112 [==============================] - 7s 67ms/step - loss: 0.0649 - acc: 0.9749 - val_loss: 0.1808 - val_acc: 0.9400\n",
      "Epoch 33/500\n",
      "112/112 [==============================] - 7s 66ms/step - loss: 0.0700 - acc: 0.9760 - val_loss: 0.1910 - val_acc: 0.9367\n",
      "Epoch 34/500\n",
      "112/112 [==============================] - 8s 67ms/step - loss: 0.0752 - acc: 0.9682 - val_loss: 0.2039 - val_acc: 0.9333\n",
      "\n",
      "Epoch 00034: ReduceLROnPlateau reducing learning rate to 6.24999984211172e-06.\n",
      "Epoch 35/500\n",
      "112/112 [==============================] - 7s 66ms/step - loss: 0.0600 - acc: 0.9819 - val_loss: 0.1845 - val_acc: 0.9367\n",
      "Epoch 36/500\n",
      "112/112 [==============================] - 7s 66ms/step - loss: 0.0627 - acc: 0.9766 - val_loss: 0.1960 - val_acc: 0.9378\n",
      "Epoch 37/500\n",
      "112/112 [==============================] - 7s 66ms/step - loss: 0.0682 - acc: 0.9788 - val_loss: 0.2020 - val_acc: 0.9344\n",
      "Epoch 38/500\n",
      "112/112 [==============================] - 7s 67ms/step - loss: 0.0592 - acc: 0.9807 - val_loss: 0.1870 - val_acc: 0.9400\n",
      "\n",
      "Epoch 00038: ReduceLROnPlateau reducing learning rate to 3.12499992105586e-06.\n",
      "Epoch 39/500\n",
      "112/112 [==============================] - 7s 66ms/step - loss: 0.0568 - acc: 0.9816 - val_loss: 0.1913 - val_acc: 0.9378\n",
      "Epoch 40/500\n",
      "112/112 [==============================] - 7s 67ms/step - loss: 0.0656 - acc: 0.9780 - val_loss: 0.1826 - val_acc: 0.9411\n",
      "Epoch 41/500\n",
      "112/112 [==============================] - 7s 67ms/step - loss: 0.0588 - acc: 0.9805 - val_loss: 0.1925 - val_acc: 0.9378\n",
      "Epoch 00041: early stopping\n"
     ]
    }
   ],
   "source": [
    "es = EarlyStopping(monitor='val_loss', mode='min', verbose=1, patience=15)\n",
    "mc = ModelCheckpoint('vgg_16_step_2.h5', monitor='val_loss', mode='min', save_best_only=True)\n",
    "# reduces learning rate if no improvement are seen\n",
    "learning_rate_reduction = ReduceLROnPlateau(monitor='val_loss', patience=4, verbose=1, factor=0.5, min_lr=0.0000001)\n",
    "history = model.fit_generator(train_generator,steps_per_epoch=train_steps, epochs=500,\n",
    "                              validation_data=validation_generator,validation_steps=validation_steps,\n",
    "                              callbacks=[es, mc, learning_rate_reduction],\n",
    "                              workers=6, max_queue_size=30)"
   ]
  },
  {
   "cell_type": "code",
   "execution_count": 17,
   "metadata": {},
   "outputs": [
    {
     "name": "stdout",
     "output_type": "stream",
     "text": [
      "Froze all layers except 11 to 21.  Model must be compiled after this!\n"
     ]
    }
   ],
   "source": [
    "model = load_model(\"vgg_16_step_2.h5\")\n",
    "freeze_model_layers(model, trainable_start=11, trainable_end=None)\n",
    "default_adam = keras.optimizers.Adam(lr=0.001, beta_1=0.9, beta_2=0.999, amsgrad=False)\n",
    "slow_adam = keras.optimizers.Adam(lr=0.0001, beta_1=0.9, beta_2=0.999, amsgrad=False)\n",
    "model.compile(loss='categorical_crossentropy',optimizer=slow_adam,metrics=['accuracy'])"
   ]
  },
  {
   "cell_type": "code",
   "execution_count": 18,
   "metadata": {},
   "outputs": [
    {
     "name": "stdout",
     "output_type": "stream",
     "text": [
      "Epoch 1/500\n",
      "112/112 [==============================] - 11s 96ms/step - loss: 0.4719 - acc: 0.8482 - val_loss: 0.3660 - val_acc: 0.8722\n",
      "Epoch 2/500\n",
      "112/112 [==============================] - 10s 87ms/step - loss: 0.3292 - acc: 0.8831 - val_loss: 0.2798 - val_acc: 0.9100\n",
      "Epoch 3/500\n",
      "112/112 [==============================] - 9s 84ms/step - loss: 0.2977 - acc: 0.8934 - val_loss: 0.2321 - val_acc: 0.9222\n",
      "Epoch 4/500\n",
      "112/112 [==============================] - 9s 84ms/step - loss: 0.2632 - acc: 0.9096 - val_loss: 0.2496 - val_acc: 0.9122\n",
      "Epoch 5/500\n",
      "112/112 [==============================] - 9s 84ms/step - loss: 0.2232 - acc: 0.9230 - val_loss: 0.2889 - val_acc: 0.9078\n",
      "Epoch 6/500\n",
      "112/112 [==============================] - 9s 84ms/step - loss: 0.2488 - acc: 0.9104 - val_loss: 0.2464 - val_acc: 0.9267\n",
      "Epoch 7/500\n",
      "112/112 [==============================] - 9s 84ms/step - loss: 0.2322 - acc: 0.9166 - val_loss: 0.2266 - val_acc: 0.9256\n",
      "Epoch 8/500\n",
      "112/112 [==============================] - 9s 82ms/step - loss: 0.1903 - acc: 0.9300 - val_loss: 0.2385 - val_acc: 0.9189\n",
      "Epoch 9/500\n",
      "112/112 [==============================] - 9s 82ms/step - loss: 0.2035 - acc: 0.9325 - val_loss: 0.1861 - val_acc: 0.9311\n",
      "Epoch 10/500\n",
      "112/112 [==============================] - 9s 82ms/step - loss: 0.1621 - acc: 0.9381 - val_loss: 0.2070 - val_acc: 0.9378\n",
      "Epoch 11/500\n",
      "112/112 [==============================] - 9s 82ms/step - loss: 0.1801 - acc: 0.9353 - val_loss: 0.2453 - val_acc: 0.9089\n",
      "Epoch 12/500\n",
      "112/112 [==============================] - 9s 82ms/step - loss: 0.1906 - acc: 0.9342 - val_loss: 0.2791 - val_acc: 0.9067\n",
      "Epoch 13/500\n",
      "112/112 [==============================] - 9s 83ms/step - loss: 0.1869 - acc: 0.9336 - val_loss: 0.1965 - val_acc: 0.9344\n",
      "\n",
      "Epoch 00013: ReduceLROnPlateau reducing learning rate to 4.999999873689376e-05.\n",
      "Epoch 14/500\n",
      "112/112 [==============================] - 9s 83ms/step - loss: 0.1219 - acc: 0.9573 - val_loss: 0.1531 - val_acc: 0.9511\n",
      "Epoch 15/500\n",
      "112/112 [==============================] - 9s 82ms/step - loss: 0.0979 - acc: 0.9660 - val_loss: 0.1808 - val_acc: 0.9378\n",
      "Epoch 16/500\n",
      "112/112 [==============================] - 9s 83ms/step - loss: 0.1117 - acc: 0.9609 - val_loss: 0.1805 - val_acc: 0.9400\n",
      "Epoch 17/500\n",
      "112/112 [==============================] - 9s 83ms/step - loss: 0.0945 - acc: 0.9676 - val_loss: 0.2029 - val_acc: 0.9344\n",
      "Epoch 18/500\n",
      "112/112 [==============================] - 9s 83ms/step - loss: 0.0989 - acc: 0.9637 - val_loss: 0.1888 - val_acc: 0.9456\n",
      "\n",
      "Epoch 00018: ReduceLROnPlateau reducing learning rate to 2.499999936844688e-05.\n",
      "Epoch 19/500\n",
      "112/112 [==============================] - 9s 83ms/step - loss: 0.0750 - acc: 0.9766 - val_loss: 0.1770 - val_acc: 0.9567\n",
      "Epoch 20/500\n",
      "112/112 [==============================] - 9s 84ms/step - loss: 0.0651 - acc: 0.9746 - val_loss: 0.1741 - val_acc: 0.9489\n",
      "Epoch 21/500\n",
      "112/112 [==============================] - 9s 85ms/step - loss: 0.0586 - acc: 0.9796 - val_loss: 0.1811 - val_acc: 0.9456\n",
      "Epoch 22/500\n",
      "112/112 [==============================] - 9s 80ms/step - loss: 0.0618 - acc: 0.9791 - val_loss: 0.1632 - val_acc: 0.9567\n",
      "\n",
      "Epoch 00022: ReduceLROnPlateau reducing learning rate to 1.249999968422344e-05.\n",
      "Epoch 23/500\n",
      "112/112 [==============================] - 9s 81ms/step - loss: 0.0533 - acc: 0.9805 - val_loss: 0.1599 - val_acc: 0.9511\n",
      "Epoch 24/500\n",
      "112/112 [==============================] - 9s 81ms/step - loss: 0.0565 - acc: 0.9810 - val_loss: 0.1654 - val_acc: 0.9467\n",
      "Epoch 25/500\n",
      "112/112 [==============================] - 9s 80ms/step - loss: 0.0445 - acc: 0.9835 - val_loss: 0.1462 - val_acc: 0.9600\n",
      "Epoch 26/500\n",
      "112/112 [==============================] - 9s 80ms/step - loss: 0.0486 - acc: 0.9833 - val_loss: 0.1828 - val_acc: 0.9456\n",
      "Epoch 27/500\n",
      "112/112 [==============================] - 9s 80ms/step - loss: 0.0445 - acc: 0.9869 - val_loss: 0.1570 - val_acc: 0.9489\n",
      "Epoch 28/500\n",
      "112/112 [==============================] - 9s 81ms/step - loss: 0.0466 - acc: 0.9835 - val_loss: 0.1753 - val_acc: 0.9444\n",
      "Epoch 29/500\n",
      "112/112 [==============================] - 9s 80ms/step - loss: 0.0411 - acc: 0.9855 - val_loss: 0.1827 - val_acc: 0.9389\n",
      "\n",
      "Epoch 00029: ReduceLROnPlateau reducing learning rate to 6.24999984211172e-06.\n",
      "Epoch 30/500\n",
      "112/112 [==============================] - 9s 81ms/step - loss: 0.0338 - acc: 0.9872 - val_loss: 0.1528 - val_acc: 0.9478\n",
      "Epoch 31/500\n",
      "112/112 [==============================] - 9s 81ms/step - loss: 0.0326 - acc: 0.9900 - val_loss: 0.1573 - val_acc: 0.9578\n",
      "Epoch 32/500\n",
      "112/112 [==============================] - 9s 81ms/step - loss: 0.0310 - acc: 0.9914 - val_loss: 0.1748 - val_acc: 0.9467\n",
      "Epoch 33/500\n",
      "112/112 [==============================] - 9s 81ms/step - loss: 0.0354 - acc: 0.9897 - val_loss: 0.1650 - val_acc: 0.9489\n",
      "\n",
      "Epoch 00033: ReduceLROnPlateau reducing learning rate to 3.12499992105586e-06.\n",
      "Epoch 34/500\n",
      "112/112 [==============================] - 9s 80ms/step - loss: 0.0348 - acc: 0.9900 - val_loss: 0.1484 - val_acc: 0.9600\n",
      "Epoch 35/500\n",
      "112/112 [==============================] - 9s 81ms/step - loss: 0.0313 - acc: 0.9894 - val_loss: 0.1591 - val_acc: 0.9544\n",
      "Epoch 36/500\n",
      "112/112 [==============================] - 9s 80ms/step - loss: 0.0265 - acc: 0.9933 - val_loss: 0.1568 - val_acc: 0.9533\n",
      "Epoch 37/500\n",
      "112/112 [==============================] - 9s 82ms/step - loss: 0.0359 - acc: 0.9886 - val_loss: 0.1509 - val_acc: 0.9567\n",
      "\n",
      "Epoch 00037: ReduceLROnPlateau reducing learning rate to 1.56249996052793e-06.\n",
      "Epoch 38/500\n",
      "112/112 [==============================] - 9s 83ms/step - loss: 0.0285 - acc: 0.9891 - val_loss: 0.1535 - val_acc: 0.9556\n",
      "Epoch 39/500\n",
      "112/112 [==============================] - 9s 82ms/step - loss: 0.0302 - acc: 0.9908 - val_loss: 0.1503 - val_acc: 0.9567\n",
      "Epoch 40/500\n",
      "112/112 [==============================] - 9s 82ms/step - loss: 0.0312 - acc: 0.9916 - val_loss: 0.1496 - val_acc: 0.9600\n",
      "Epoch 00040: early stopping\n"
     ]
    }
   ],
   "source": [
    "es = EarlyStopping(monitor='val_loss', mode='min', verbose=1, patience=15)\n",
    "mc = ModelCheckpoint('vgg_16_step_3.h5', monitor='val_loss', mode='min', save_best_only=True)\n",
    "# reduces learning rate if no improvement are seen\n",
    "learning_rate_reduction = ReduceLROnPlateau(monitor='val_loss', patience=4, verbose=1, factor=0.5, min_lr=0.0000001)\n",
    "history = model.fit_generator(train_generator,steps_per_epoch=train_steps, epochs=500,\n",
    "                              validation_data=validation_generator,validation_steps=validation_steps,\n",
    "                              callbacks=[es, mc, learning_rate_reduction],\n",
    "                              workers=6, max_queue_size=30)"
   ]
  },
  {
   "cell_type": "code",
   "execution_count": 19,
   "metadata": {},
   "outputs": [],
   "source": [
    "saved_model = load_model(\"vgg_16_step_3.h5\")"
   ]
  },
  {
   "cell_type": "code",
   "execution_count": 20,
   "metadata": {},
   "outputs": [],
   "source": [
    "num_name_dict = {v:k for k,v in train_generator.class_indices.items()}"
   ]
  },
  {
   "cell_type": "code",
   "execution_count": 21,
   "metadata": {},
   "outputs": [],
   "source": [
    "import matplotlib.pyplot as plt\n",
    "import itertools\n",
    "def plot_confusion_matrix(cm,\n",
    "                          target_names,\n",
    "                          title='Confusion matrix',\n",
    "                          cmap=None,\n",
    "                          normalize=True):\n",
    "    import matplotlib.pyplot as plt\n",
    "    import numpy as np\n",
    "    import itertools\n",
    "    accuracy = np.trace(cm) / float(np.sum(cm))\n",
    "    misclass = 1 - accuracy\n",
    "    if cmap is None:\n",
    "        cmap = plt.get_cmap('Blues')\n",
    "    plt.figure(figsize=(8*2, 6*2))\n",
    "    plt.imshow(cm, interpolation='nearest', cmap=cmap)\n",
    "    plt.title(title)\n",
    "    plt.colorbar()\n",
    "    if target_names is not None:\n",
    "        tick_marks = np.arange(len(target_names))\n",
    "        plt.xticks(tick_marks, target_names, rotation=45)\n",
    "        plt.yticks(tick_marks, target_names)\n",
    "    if normalize:\n",
    "        cm = cm.astype('float') / cm.sum(axis=1)[:, np.newaxis]\n",
    "    thresh = cm.max() / 1.5 if normalize else cm.max() / 2\n",
    "    for i, j in itertools.product(range(cm.shape[0]), range(cm.shape[1])):\n",
    "        if normalize:\n",
    "            plt.text(j, i, \"{:0.4f}\".format(cm[i, j]),\n",
    "                     horizontalalignment=\"center\",\n",
    "                     color=\"white\" if cm[i, j] > thresh else \"black\")\n",
    "        else:\n",
    "            plt.text(j, i, \"{:,}\".format(cm[i, j]),\n",
    "                     horizontalalignment=\"center\",\n",
    "                     color=\"white\" if cm[i, j] > thresh else \"black\")\n",
    "    plt.tight_layout()\n",
    "    plt.ylabel('True label')\n",
    "    plt.xlabel('Predicted label\\naccuracy={:0.4f}; misclass={:0.4f}'.format(accuracy, misclass))\n",
    "    plt.ylim(len(cm)-0.5, -0.5)\n",
    "    plt.show()"
   ]
  },
  {
   "cell_type": "code",
   "execution_count": 22,
   "metadata": {},
   "outputs": [],
   "source": [
    "validation_generator.reset()\n",
    "final_preds = []\n",
    "final_true = []\n",
    "for j in range(validation_steps):\n",
    "    x_val, y_val = next(validation_generator)\n",
    "    _pred = saved_model.predict(x_val)\n",
    "    _num_preds = [np.argmax(_pred[i,:]) for i in range(_pred.shape[0])]\n",
    "    _str_preds = [num_name_dict[x] for x in _num_preds]\n",
    "    _num_true = [np.argmax(y_val[i,:]) for i in range(y_val.shape[0])]\n",
    "    _str_true = [num_name_dict[x] for x in _num_true]\n",
    "    final_preds.extend(_str_preds)\n",
    "    final_true.extend(_str_true)\n"
   ]
  },
  {
   "cell_type": "code",
   "execution_count": 23,
   "metadata": {},
   "outputs": [
    {
     "data": {
      "text/plain": [
       "<Figure size 720x720 with 0 Axes>"
      ]
     },
     "metadata": {},
     "output_type": "display_data"
    },
    {
     "data": {
      "image/png": "[encoded data removed]",
      "text/plain": [
       "<Figure size 1152x864 with 2 Axes>"
      ]
     },
     "metadata": {
      "needs_background": "light"
     },
     "output_type": "display_data"
    }
   ],
   "source": [
    "cm = confusion_matrix(final_true, \n",
    "                 final_preds, \n",
    "                 labels=list(validation_generator.class_indices.keys()))\n",
    "np.set_printoptions(precision=2)\n",
    "plt.figure(figsize=(10, 10))\n",
    "plot_confusion_matrix(cm=cm, normalize=False, target_names=list(validation_generator.class_indices.keys()), title=\"eiei\")\n",
    "plt.show()"
   ]
  },
  {
   "cell_type": "code",
   "execution_count": 24,
   "metadata": {},
   "outputs": [
    {
     "name": "stdout",
     "output_type": "stream",
     "text": [
      "Found 500 images belonging to 1 classes.\n"
     ]
    }
   ],
   "source": [
    "test_generator = test_datagen.flow_from_directory('./test',classes=['test'],target_size=(150,150),\n",
    "                                                 shuffle=False,\n",
    "                                                 class_mode=None,\n",
    "                                                 batch_size=1,\n",
    "                                                 seed=7)"
   ]
  },
  {
   "cell_type": "code",
   "execution_count": 25,
   "metadata": {},
   "outputs": [
    {
     "name": "stdout",
     "output_type": "stream",
     "text": [
      "500/500 [==============================] - 2s 5ms/step\n"
     ]
    }
   ],
   "source": [
    "STEP_SIZE_TEST=test_generator.n//test_generator.batch_size\n",
    "test_generator.reset()\n",
    "pred=saved_model.predict_generator(test_generator,steps=STEP_SIZE_TEST,verbose=1)"
   ]
  },
  {
   "cell_type": "code",
   "execution_count": 26,
   "metadata": {},
   "outputs": [],
   "source": [
    "num_preds = [np.argmax(pred[i,:]) for i in range(pred.shape[0])]\n",
    "num_name_dict = {v:k for k,v in train_generator.class_indices.items()}\n",
    "str_preds = [num_name_dict[x] for x in num_preds]\n",
    "test_file_id = [os.path.basename(test_file) for test_file in test_generator.filenames]\n",
    "test_submission = pd.DataFrame({'Id': test_file_id, 'Category': str_preds})\n",
    "test_submission.to_csv('submission.csv', index=False)"
   ]
  }
 ],
 "metadata": {
  "kernelspec": {
   "display_name": "Python 3",
   "language": "python",
   "name": "python3"
  },
  "language_info": {
   "codemirror_mode": {
    "name": "ipython",
    "version": 3
   },
   "file_extension": ".py",
   "mimetype": "text/x-python",
   "name": "python",
   "nbconvert_exporter": "python",
   "pygments_lexer": "ipython3",
   "version": "3.6.9"
  }
 },
 "nbformat": 4,
 "nbformat_minor": 4
}
